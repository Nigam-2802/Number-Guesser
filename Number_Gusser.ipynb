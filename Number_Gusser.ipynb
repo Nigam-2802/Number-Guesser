{
 "cells": [
  {
   "cell_type": "code",
   "execution_count": null,
   "id": "239d3f70-e8ac-478b-a088-9a4263496118",
   "metadata": {},
   "outputs": [],
   "source": [
    "import random\n",
    "top_of_range=input(\"Type a number\")\n",
    "if top_of_range.isdigit():\n",
    "    top_of_range=int(top_of_range)\n",
    "    if top_of_range<=0:\n",
    "        print(\"please type a number larger than 0 next time\")\n",
    "        quit()\n",
    "\n",
    "else:\n",
    "    print(\"please type a number next time\")\n",
    "    quit()\n",
    "\n",
    "random_number=random.randint(0,top_of_range)\n",
    "guesses=0\n",
    "while True:\n",
    "    guesses+=1\n",
    "    user_guess=input(\"Make a guess: \")\n",
    "    if user_guess.isdigit():\n",
    "       user_guess=int(user_guess)\n",
    "    else:\n",
    "        print(\"please type a number next time\")\n",
    "        continue\n",
    "    if user_guess==random_number:\n",
    "        print(\"you got it\")\n",
    "        print(random_number)\n",
    "        break\n",
    "    elif user_guess > random_number:\n",
    "        print(\"Try smaller number\")\n",
    "    else:\n",
    "        print(\"Try larger number\")\n",
    "\n",
    "print(\"you got it in\",guesses,\"guesses\")"
   ]
  }
 ],
 "metadata": {
  "kernelspec": {
   "display_name": "Python 3 (ipykernel)",
   "language": "python",
   "name": "python3"
  },
  "language_info": {
   "codemirror_mode": {
    "name": "ipython",
    "version": 3
   },
   "file_extension": ".py",
   "mimetype": "text/x-python",
   "name": "python",
   "nbconvert_exporter": "python",
   "pygments_lexer": "ipython3",
   "version": "3.12.4"
  }
 },
 "nbformat": 4,
 "nbformat_minor": 5
}
